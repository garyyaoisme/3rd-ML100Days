{
 "cells": [
  {
   "cell_type": "markdown",
   "metadata": {},
   "source": [
    "## [作業目標]\n",
    "了解機器學習適合應用的領域與範疇。"
   ]
  },
  {
   "cell_type": "markdown",
   "metadata": {},
   "source": [
    "## [作業重點]\n",
    "透過瞭解機器學習的運作方式，找出非常適用機器學習應用的領域及其原因"
   ]
  },
  {
   "cell_type": "markdown",
   "metadata": {},
   "source": [
    "## 作業\n",
    "請找出一個你認為機器學習可以發光發熱的領域並闡述原因? "
   ]
  },
  {
   "cell_type": "markdown",
   "metadata": {},
   "source": [
    "我認為電腦視覺是機器學習可以完全發光發熱的領域。人類可以非常輕易地分辨人與人的臉以及各個物品的長相，\n",
    "如果以程式邏輯去判斷的話則是近乎不可能的難題。然而機器學習並非使用死板板的邏輯判斷，\n",
    "而是藉由大量的資料學習使其找到資料間的關聯性且進行預測。在電腦視覺應用上可以說是非常非常廣闊，\n",
    "光是人臉辨識就無窮的商機，例如:大陸現在推信用制度就與人臉辨識連結、人臉辨識也能使警察在短時間內不需人力就能找出犯人的蹤跡。\n",
    "若是應用在製造業上可以用來作為大量檢測良率的方法。\n",
    "    從這麼多的應用面上，看出電腦視覺的潛力，因此我認為電腦視覺是機器學習很好發揮的項目。"
   ]
  }
 ],
 "metadata": {
  "kernelspec": {
   "display_name": "Python 3",
   "language": "python",
   "name": "python3"
  },
  "language_info": {
   "codemirror_mode": {
    "name": "ipython",
    "version": 3
   },
   "file_extension": ".py",
   "mimetype": "text/x-python",
   "name": "python",
   "nbconvert_exporter": "python",
   "pygments_lexer": "ipython3",
   "version": "3.7.3"
  }
 },
 "nbformat": 4,
 "nbformat_minor": 2
}
